{
  "cells": [
    {
      "cell_type": "markdown",
      "metadata": {
        "id": "xrvOD02o3HvH"
      },
      "source": [
        "# Классификация текстов"
      ]
    },
    {
      "cell_type": "code",
      "execution_count": null,
      "metadata": {
        "id": "TcjEYh7R3HvK"
      },
      "outputs": [],
      "source": [
        "import numpy as np\n",
        "import pandas as pd\n",
        "from typing import  List\n",
        "import matplotlib.pyplot as plt\n",
        "import seaborn as sns\n",
        "from string import punctuation"
      ]
    },
    {
      "cell_type": "code",
      "execution_count": null,
      "metadata": {
        "id": "mjwffGiB3HvK"
      },
      "outputs": [],
      "source": [
        "data = pd.read_csv('train.csv')"
      ]
    },
    {
      "cell_type": "code",
      "execution_count": null,
      "metadata": {
        "colab": {
          "base_uri": "https://localhost:8080/",
          "height": 201
        },
        "id": "v0uUoFTN3HvK",
        "outputId": "59170284-ef3f-4845-a72f-23895f3cd33e"
      },
      "outputs": [
        {
          "output_type": "execute_result",
          "data": {
            "text/plain": [
              "   id keyword location                                               text  \\\n",
              "0   1     NaN      NaN  Our Deeds are the Reason of this #earthquake M...   \n",
              "1   4     NaN      NaN             Forest fire near La Ronge Sask. Canada   \n",
              "2   5     NaN      NaN  All residents asked to 'shelter in place' are ...   \n",
              "3   6     NaN      NaN  13,000 people receive #wildfires evacuation or...   \n",
              "4   7     NaN      NaN  Just got sent this photo from Ruby #Alaska as ...   \n",
              "\n",
              "   target  \n",
              "0       1  \n",
              "1       1  \n",
              "2       1  \n",
              "3       1  \n",
              "4       1  "
            ],
            "text/html": [
              "\n",
              "  <div id=\"df-abedb86a-6955-4143-8d4a-08367449f538\">\n",
              "    <div class=\"colab-df-container\">\n",
              "      <div>\n",
              "<style scoped>\n",
              "    .dataframe tbody tr th:only-of-type {\n",
              "        vertical-align: middle;\n",
              "    }\n",
              "\n",
              "    .dataframe tbody tr th {\n",
              "        vertical-align: top;\n",
              "    }\n",
              "\n",
              "    .dataframe thead th {\n",
              "        text-align: right;\n",
              "    }\n",
              "</style>\n",
              "<table border=\"1\" class=\"dataframe\">\n",
              "  <thead>\n",
              "    <tr style=\"text-align: right;\">\n",
              "      <th></th>\n",
              "      <th>id</th>\n",
              "      <th>keyword</th>\n",
              "      <th>location</th>\n",
              "      <th>text</th>\n",
              "      <th>target</th>\n",
              "    </tr>\n",
              "  </thead>\n",
              "  <tbody>\n",
              "    <tr>\n",
              "      <th>0</th>\n",
              "      <td>1</td>\n",
              "      <td>NaN</td>\n",
              "      <td>NaN</td>\n",
              "      <td>Our Deeds are the Reason of this #earthquake M...</td>\n",
              "      <td>1</td>\n",
              "    </tr>\n",
              "    <tr>\n",
              "      <th>1</th>\n",
              "      <td>4</td>\n",
              "      <td>NaN</td>\n",
              "      <td>NaN</td>\n",
              "      <td>Forest fire near La Ronge Sask. Canada</td>\n",
              "      <td>1</td>\n",
              "    </tr>\n",
              "    <tr>\n",
              "      <th>2</th>\n",
              "      <td>5</td>\n",
              "      <td>NaN</td>\n",
              "      <td>NaN</td>\n",
              "      <td>All residents asked to 'shelter in place' are ...</td>\n",
              "      <td>1</td>\n",
              "    </tr>\n",
              "    <tr>\n",
              "      <th>3</th>\n",
              "      <td>6</td>\n",
              "      <td>NaN</td>\n",
              "      <td>NaN</td>\n",
              "      <td>13,000 people receive #wildfires evacuation or...</td>\n",
              "      <td>1</td>\n",
              "    </tr>\n",
              "    <tr>\n",
              "      <th>4</th>\n",
              "      <td>7</td>\n",
              "      <td>NaN</td>\n",
              "      <td>NaN</td>\n",
              "      <td>Just got sent this photo from Ruby #Alaska as ...</td>\n",
              "      <td>1</td>\n",
              "    </tr>\n",
              "  </tbody>\n",
              "</table>\n",
              "</div>\n",
              "      <button class=\"colab-df-convert\" onclick=\"convertToInteractive('df-abedb86a-6955-4143-8d4a-08367449f538')\"\n",
              "              title=\"Convert this dataframe to an interactive table.\"\n",
              "              style=\"display:none;\">\n",
              "        \n",
              "  <svg xmlns=\"http://www.w3.org/2000/svg\" height=\"24px\"viewBox=\"0 0 24 24\"\n",
              "       width=\"24px\">\n",
              "    <path d=\"M0 0h24v24H0V0z\" fill=\"none\"/>\n",
              "    <path d=\"M18.56 5.44l.94 2.06.94-2.06 2.06-.94-2.06-.94-.94-2.06-.94 2.06-2.06.94zm-11 1L8.5 8.5l.94-2.06 2.06-.94-2.06-.94L8.5 2.5l-.94 2.06-2.06.94zm10 10l.94 2.06.94-2.06 2.06-.94-2.06-.94-.94-2.06-.94 2.06-2.06.94z\"/><path d=\"M17.41 7.96l-1.37-1.37c-.4-.4-.92-.59-1.43-.59-.52 0-1.04.2-1.43.59L10.3 9.45l-7.72 7.72c-.78.78-.78 2.05 0 2.83L4 21.41c.39.39.9.59 1.41.59.51 0 1.02-.2 1.41-.59l7.78-7.78 2.81-2.81c.8-.78.8-2.07 0-2.86zM5.41 20L4 18.59l7.72-7.72 1.47 1.35L5.41 20z\"/>\n",
              "  </svg>\n",
              "      </button>\n",
              "      \n",
              "  <style>\n",
              "    .colab-df-container {\n",
              "      display:flex;\n",
              "      flex-wrap:wrap;\n",
              "      gap: 12px;\n",
              "    }\n",
              "\n",
              "    .colab-df-convert {\n",
              "      background-color: #E8F0FE;\n",
              "      border: none;\n",
              "      border-radius: 50%;\n",
              "      cursor: pointer;\n",
              "      display: none;\n",
              "      fill: #1967D2;\n",
              "      height: 32px;\n",
              "      padding: 0 0 0 0;\n",
              "      width: 32px;\n",
              "    }\n",
              "\n",
              "    .colab-df-convert:hover {\n",
              "      background-color: #E2EBFA;\n",
              "      box-shadow: 0px 1px 2px rgba(60, 64, 67, 0.3), 0px 1px 3px 1px rgba(60, 64, 67, 0.15);\n",
              "      fill: #174EA6;\n",
              "    }\n",
              "\n",
              "    [theme=dark] .colab-df-convert {\n",
              "      background-color: #3B4455;\n",
              "      fill: #D2E3FC;\n",
              "    }\n",
              "\n",
              "    [theme=dark] .colab-df-convert:hover {\n",
              "      background-color: #434B5C;\n",
              "      box-shadow: 0px 1px 3px 1px rgba(0, 0, 0, 0.15);\n",
              "      filter: drop-shadow(0px 1px 2px rgba(0, 0, 0, 0.3));\n",
              "      fill: #FFFFFF;\n",
              "    }\n",
              "  </style>\n",
              "\n",
              "      <script>\n",
              "        const buttonEl =\n",
              "          document.querySelector('#df-abedb86a-6955-4143-8d4a-08367449f538 button.colab-df-convert');\n",
              "        buttonEl.style.display =\n",
              "          google.colab.kernel.accessAllowed ? 'block' : 'none';\n",
              "\n",
              "        async function convertToInteractive(key) {\n",
              "          const element = document.querySelector('#df-abedb86a-6955-4143-8d4a-08367449f538');\n",
              "          const dataTable =\n",
              "            await google.colab.kernel.invokeFunction('convertToInteractive',\n",
              "                                                     [key], {});\n",
              "          if (!dataTable) return;\n",
              "\n",
              "          const docLinkHtml = 'Like what you see? Visit the ' +\n",
              "            '<a target=\"_blank\" href=https://colab.research.google.com/notebooks/data_table.ipynb>data table notebook</a>'\n",
              "            + ' to learn more about interactive tables.';\n",
              "          element.innerHTML = '';\n",
              "          dataTable['output_type'] = 'display_data';\n",
              "          await google.colab.output.renderOutput(dataTable, element);\n",
              "          const docLink = document.createElement('div');\n",
              "          docLink.innerHTML = docLinkHtml;\n",
              "          element.appendChild(docLink);\n",
              "        }\n",
              "      </script>\n",
              "    </div>\n",
              "  </div>\n",
              "  "
            ]
          },
          "metadata": {},
          "execution_count": 3
        }
      ],
      "source": [
        "data.head()"
      ]
    },
    {
      "cell_type": "code",
      "execution_count": null,
      "metadata": {
        "id": "f49NdWY23HvL"
      },
      "outputs": [],
      "source": [
        "from sklearn.model_selection import train_test_split\n",
        "\n",
        "train, test = train_test_split(data, test_size=0.3, random_state=42)"
      ]
    },
    {
      "cell_type": "code",
      "source": [
        "data.isna().any()"
      ],
      "metadata": {
        "id": "96aJxmkV4105",
        "colab": {
          "base_uri": "https://localhost:8080/"
        },
        "outputId": "863fb6ba-a87a-4561-f0e7-1af055b22720"
      },
      "execution_count": null,
      "outputs": [
        {
          "output_type": "execute_result",
          "data": {
            "text/plain": [
              "id          False\n",
              "keyword      True\n",
              "location     True\n",
              "text        False\n",
              "target      False\n",
              "dtype: bool"
            ]
          },
          "metadata": {},
          "execution_count": 5
        }
      ]
    },
    {
      "cell_type": "code",
      "source": [
        "data = data.fillna('')"
      ],
      "metadata": {
        "id": "PCAd0cqdDJZZ"
      },
      "execution_count": null,
      "outputs": []
    },
    {
      "cell_type": "code",
      "source": [
        "data.target.value_counts()"
      ],
      "metadata": {
        "id": "WvJ_EU9o5BGm",
        "colab": {
          "base_uri": "https://localhost:8080/"
        },
        "outputId": "90e38300-7bb6-4bb4-ccc0-c02571a5ba4f"
      },
      "execution_count": null,
      "outputs": [
        {
          "output_type": "execute_result",
          "data": {
            "text/plain": [
              "0    4342\n",
              "1    3271\n",
              "Name: target, dtype: int64"
            ]
          },
          "metadata": {},
          "execution_count": 7
        }
      ]
    },
    {
      "cell_type": "code",
      "source": [
        "popular_keywords = data.keyword.value_counts()[:11]"
      ],
      "metadata": {
        "id": "WSCb0htu5w_Y"
      },
      "execution_count": null,
      "outputs": []
    },
    {
      "cell_type": "code",
      "source": [
        "popular_keywords # первый класс NA которые мы доблестно заполнили в первом пункте "
      ],
      "metadata": {
        "colab": {
          "base_uri": "https://localhost:8080/"
        },
        "id": "If9GJWWnDf9K",
        "outputId": "32192ccb-980a-4618-e22b-7e43608fdabb"
      },
      "execution_count": null,
      "outputs": [
        {
          "output_type": "execute_result",
          "data": {
            "text/plain": [
              "               61\n",
              "fatalities     45\n",
              "deluge         42\n",
              "armageddon     42\n",
              "sinking        41\n",
              "damage         41\n",
              "harm           41\n",
              "body%20bags    41\n",
              "evacuate       40\n",
              "fear           40\n",
              "outbreak       40\n",
              "Name: keyword, dtype: int64"
            ]
          },
          "metadata": {},
          "execution_count": 9
        }
      ]
    },
    {
      "cell_type": "code",
      "source": [
        "plt.figure(figsize=(12, 8))\n",
        "crossik = pd.crosstab(data.target, data.keyword).iloc[:,1:11]\n",
        "plt.bar(data.keyword.value_counts()[1:11].index, crossik.iloc[0,:].values,alpha=0.4, label=\"Zero\")\n",
        "plt.bar(data.keyword.value_counts()[1:11].index, crossik.iloc[1,:].values,alpha=0.5, label=\"One\")\n",
        "plt.xlabel(\"Keyword\")\n",
        "plt.ylabel(\"Count\")\n",
        "plt.title(\"Distribution of classes by keyword\")\n",
        "plt.xticks(rotation=45)\n",
        "plt.legend()\n",
        "plt.show()"
      ],
      "metadata": {
        "colab": {
          "base_uri": "https://localhost:8080/",
          "height": 783
        },
        "id": "r9wSwm4L9REm",
        "outputId": "11bb0af1-a230-4bce-a120-8b56a3ec65d6"
      },
      "execution_count": null,
      "outputs": [
        {
          "output_type": "display_data",
          "data": {
            "text/plain": [
              "<Figure size 1200x800 with 1 Axes>"
            ],
            "image/png": "[encoded data removed]"
          },
          "metadata": {}
        }
      ]
    },
    {
      "cell_type": "code",
      "source": [
        "train.loc[[6590, 7122, 2769]]"
      ],
      "metadata": {
        "colab": {
          "base_uri": "https://localhost:8080/",
          "height": 140
        },
        "id": "GdF9gFmL-c0r",
        "outputId": "e6c57f37-0edc-4ff5-815c-57ae4415fe13"
      },
      "execution_count": null,
      "outputs": [
        {
          "output_type": "execute_result",
          "data": {
            "text/plain": [
              "         id          keyword      location  \\\n",
              "6590   9436        survivors  Marietta, GA   \n",
              "7122  10203  violent%20storm           NaN   \n",
              "2769   3980      devastation  Atlanta g.a.   \n",
              "\n",
              "                                                   text  target  \n",
              "6590  Stemming from my #Cubs talk- the team rosters ...       1  \n",
              "7122  If you were the NWS wth a rotating storm w/ a ...       1  \n",
              "2769  http://t.co/Gxgm1T3W0J From Devastation to Ela...       0  "
            ],
            "text/html": [
              "\n",
              "  <div id=\"df-42fbe96a-b05d-486e-a794-6386b86d5c4e\">\n",
              "    <div class=\"colab-df-container\">\n",
              "      <div>\n",
              "<style scoped>\n",
              "    .dataframe tbody tr th:only-of-type {\n",
              "        vertical-align: middle;\n",
              "    }\n",
              "\n",
              "    .dataframe tbody tr th {\n",
              "        vertical-align: top;\n",
              "    }\n",
              "\n",
              "    .dataframe thead th {\n",
              "        text-align: right;\n",
              "    }\n",
              "</style>\n",
              "<table border=\"1\" class=\"dataframe\">\n",
              "  <thead>\n",
              "    <tr style=\"text-align: right;\">\n",
              "      <th></th>\n",
              "      <th>id</th>\n",
              "      <th>keyword</th>\n",
              "      <th>location</th>\n",
              "      <th>text</th>\n",
              "      <th>target</th>\n",
              "    </tr>\n",
              "  </thead>\n",
              "  <tbody>\n",
              "    <tr>\n",
              "      <th>6590</th>\n",
              "      <td>9436</td>\n",
              "      <td>survivors</td>\n",
              "      <td>Marietta, GA</td>\n",
              "      <td>Stemming from my #Cubs talk- the team rosters ...</td>\n",
              "      <td>1</td>\n",
              "    </tr>\n",
              "    <tr>\n",
              "      <th>7122</th>\n",
              "      <td>10203</td>\n",
              "      <td>violent%20storm</td>\n",
              "      <td>NaN</td>\n",
              "      <td>If you were the NWS wth a rotating storm w/ a ...</td>\n",
              "      <td>1</td>\n",
              "    </tr>\n",
              "    <tr>\n",
              "      <th>2769</th>\n",
              "      <td>3980</td>\n",
              "      <td>devastation</td>\n",
              "      <td>Atlanta g.a.</td>\n",
              "      <td>http://t.co/Gxgm1T3W0J From Devastation to Ela...</td>\n",
              "      <td>0</td>\n",
              "    </tr>\n",
              "  </tbody>\n",
              "</table>\n",
              "</div>\n",
              "      <button class=\"colab-df-convert\" onclick=\"convertToInteractive('df-42fbe96a-b05d-486e-a794-6386b86d5c4e')\"\n",
              "              title=\"Convert this dataframe to an interactive table.\"\n",
              "              style=\"display:none;\">\n",
              "        \n",
              "  <svg xmlns=\"http://www.w3.org/2000/svg\" height=\"24px\"viewBox=\"0 0 24 24\"\n",
              "       width=\"24px\">\n",
              "    <path d=\"M0 0h24v24H0V0z\" fill=\"none\"/>\n",
              "    <path d=\"M18.56 5.44l.94 2.06.94-2.06 2.06-.94-2.06-.94-.94-2.06-.94 2.06-2.06.94zm-11 1L8.5 8.5l.94-2.06 2.06-.94-2.06-.94L8.5 2.5l-.94 2.06-2.06.94zm10 10l.94 2.06.94-2.06 2.06-.94-2.06-.94-.94-2.06-.94 2.06-2.06.94z\"/><path d=\"M17.41 7.96l-1.37-1.37c-.4-.4-.92-.59-1.43-.59-.52 0-1.04.2-1.43.59L10.3 9.45l-7.72 7.72c-.78.78-.78 2.05 0 2.83L4 21.41c.39.39.9.59 1.41.59.51 0 1.02-.2 1.41-.59l7.78-7.78 2.81-2.81c.8-.78.8-2.07 0-2.86zM5.41 20L4 18.59l7.72-7.72 1.47 1.35L5.41 20z\"/>\n",
              "  </svg>\n",
              "      </button>\n",
              "      \n",
              "  <style>\n",
              "    .colab-df-container {\n",
              "      display:flex;\n",
              "      flex-wrap:wrap;\n",
              "      gap: 12px;\n",
              "    }\n",
              "\n",
              "    .colab-df-convert {\n",
              "      background-color: #E8F0FE;\n",
              "      border: none;\n",
              "      border-radius: 50%;\n",
              "      cursor: pointer;\n",
              "      display: none;\n",
              "      fill: #1967D2;\n",
              "      height: 32px;\n",
              "      padding: 0 0 0 0;\n",
              "      width: 32px;\n",
              "    }\n",
              "\n",
              "    .colab-df-convert:hover {\n",
              "      background-color: #E2EBFA;\n",
              "      box-shadow: 0px 1px 2px rgba(60, 64, 67, 0.3), 0px 1px 3px 1px rgba(60, 64, 67, 0.15);\n",
              "      fill: #174EA6;\n",
              "    }\n",
              "\n",
              "    [theme=dark] .colab-df-convert {\n",
              "      background-color: #3B4455;\n",
              "      fill: #D2E3FC;\n",
              "    }\n",
              "\n",
              "    [theme=dark] .colab-df-convert:hover {\n",
              "      background-color: #434B5C;\n",
              "      box-shadow: 0px 1px 3px 1px rgba(0, 0, 0, 0.15);\n",
              "      filter: drop-shadow(0px 1px 2px rgba(0, 0, 0, 0.3));\n",
              "      fill: #FFFFFF;\n",
              "    }\n",
              "  </style>\n",
              "\n",
              "      <script>\n",
              "        const buttonEl =\n",
              "          document.querySelector('#df-42fbe96a-b05d-486e-a794-6386b86d5c4e button.colab-df-convert');\n",
              "        buttonEl.style.display =\n",
              "          google.colab.kernel.accessAllowed ? 'block' : 'none';\n",
              "\n",
              "        async function convertToInteractive(key) {\n",
              "          const element = document.querySelector('#df-42fbe96a-b05d-486e-a794-6386b86d5c4e');\n",
              "          const dataTable =\n",
              "            await google.colab.kernel.invokeFunction('convertToInteractive',\n",
              "                                                     [key], {});\n",
              "          if (!dataTable) return;\n",
              "\n",
              "          const docLinkHtml = 'Like what you see? Visit the ' +\n",
              "            '<a target=\"_blank\" href=https://colab.research.google.com/notebooks/data_table.ipynb>data table notebook</a>'\n",
              "            + ' to learn more about interactive tables.';\n",
              "          element.innerHTML = '';\n",
              "          dataTable['output_type'] = 'display_data';\n",
              "          await google.colab.output.renderOutput(dataTable, element);\n",
              "          const docLink = document.createElement('div');\n",
              "          docLink.innerHTML = docLinkHtml;\n",
              "          element.appendChild(docLink);\n",
              "        }\n",
              "      </script>\n",
              "    </div>\n",
              "  </div>\n",
              "  "
            ]
          },
          "metadata": {},
          "execution_count": 60
        }
      ]
    },
    {
      "cell_type": "code",
      "source": [
        "data.drop('id', axis=1, inplace=True)"
      ],
      "metadata": {
        "id": "lwwJKX_l-eoh"
      },
      "execution_count": null,
      "outputs": []
    },
    {
      "cell_type": "code",
      "source": [
        "data['text'] = data['keyword'] + ' ' + data['location'] + ' ' + data['text']\n",
        "data.drop(['keyword', 'location'], axis=1, inplace=True)"
      ],
      "metadata": {
        "id": "WOP_XxpeNTe3"
      },
      "execution_count": null,
      "outputs": []
    },
    {
      "cell_type": "code",
      "source": [
        "data.loc[[6590, 7122, 2769]]"
      ],
      "metadata": {
        "colab": {
          "base_uri": "https://localhost:8080/",
          "height": 140
        },
        "id": "jk7P70XX_CpT",
        "outputId": "8960c986-d46e-4490-c425-7c459d36bb32"
      },
      "execution_count": null,
      "outputs": [
        {
          "output_type": "execute_result",
          "data": {
            "text/plain": [
              "                                                   text  target\n",
              "6590  survivors Marietta, GA Stemming from my #Cubs ...       1\n",
              "7122  violent%20storm  If you were the NWS wth a rot...       1\n",
              "2769  devastation Atlanta g.a. http://t.co/Gxgm1T3W0...       0"
            ],
            "text/html": [
              "\n",
              "  <div id=\"df-2114fa64-c84d-4c63-969c-e3fac12d1784\">\n",
              "    <div class=\"colab-df-container\">\n",
              "      <div>\n",
              "<style scoped>\n",
              "    .dataframe tbody tr th:only-of-type {\n",
              "        vertical-align: middle;\n",
              "    }\n",
              "\n",
              "    .dataframe tbody tr th {\n",
              "        vertical-align: top;\n",
              "    }\n",
              "\n",
              "    .dataframe thead th {\n",
              "        text-align: right;\n",
              "    }\n",
              "</style>\n",
              "<table border=\"1\" class=\"dataframe\">\n",
              "  <thead>\n",
              "    <tr style=\"text-align: right;\">\n",
              "      <th></th>\n",
              "      <th>text</th>\n",
              "      <th>target</th>\n",
              "    </tr>\n",
              "  </thead>\n",
              "  <tbody>\n",
              "    <tr>\n",
              "      <th>6590</th>\n",
              "      <td>survivors Marietta, GA Stemming from my #Cubs ...</td>\n",
              "      <td>1</td>\n",
              "    </tr>\n",
              "    <tr>\n",
              "      <th>7122</th>\n",
              "      <td>violent%20storm  If you were the NWS wth a rot...</td>\n",
              "      <td>1</td>\n",
              "    </tr>\n",
              "    <tr>\n",
              "      <th>2769</th>\n",
              "      <td>devastation Atlanta g.a. http://t.co/Gxgm1T3W0...</td>\n",
              "      <td>0</td>\n",
              "    </tr>\n",
              "  </tbody>\n",
              "</table>\n",
              "</div>\n",
              "      <button class=\"colab-df-convert\" onclick=\"convertToInteractive('df-2114fa64-c84d-4c63-969c-e3fac12d1784')\"\n",
              "              title=\"Convert this dataframe to an interactive table.\"\n",
              "              style=\"display:none;\">\n",
              "        \n",
              "  <svg xmlns=\"http://www.w3.org/2000/svg\" height=\"24px\"viewBox=\"0 0 24 24\"\n",
              "       width=\"24px\">\n",
              "    <path d=\"M0 0h24v24H0V0z\" fill=\"none\"/>\n",
              "    <path d=\"M18.56 5.44l.94 2.06.94-2.06 2.06-.94-2.06-.94-.94-2.06-.94 2.06-2.06.94zm-11 1L8.5 8.5l.94-2.06 2.06-.94-2.06-.94L8.5 2.5l-.94 2.06-2.06.94zm10 10l.94 2.06.94-2.06 2.06-.94-2.06-.94-.94-2.06-.94 2.06-2.06.94z\"/><path d=\"M17.41 7.96l-1.37-1.37c-.4-.4-.92-.59-1.43-.59-.52 0-1.04.2-1.43.59L10.3 9.45l-7.72 7.72c-.78.78-.78 2.05 0 2.83L4 21.41c.39.39.9.59 1.41.59.51 0 1.02-.2 1.41-.59l7.78-7.78 2.81-2.81c.8-.78.8-2.07 0-2.86zM5.41 20L4 18.59l7.72-7.72 1.47 1.35L5.41 20z\"/>\n",
              "  </svg>\n",
              "      </button>\n",
              "      \n",
              "  <style>\n",
              "    .colab-df-container {\n",
              "      display:flex;\n",
              "      flex-wrap:wrap;\n",
              "      gap: 12px;\n",
              "    }\n",
              "\n",
              "    .colab-df-convert {\n",
              "      background-color: #E8F0FE;\n",
              "      border: none;\n",
              "      border-radius: 50%;\n",
              "      cursor: pointer;\n",
              "      display: none;\n",
              "      fill: #1967D2;\n",
              "      height: 32px;\n",
              "      padding: 0 0 0 0;\n",
              "      width: 32px;\n",
              "    }\n",
              "\n",
              "    .colab-df-convert:hover {\n",
              "      background-color: #E2EBFA;\n",
              "      box-shadow: 0px 1px 2px rgba(60, 64, 67, 0.3), 0px 1px 3px 1px rgba(60, 64, 67, 0.15);\n",
              "      fill: #174EA6;\n",
              "    }\n",
              "\n",
              "    [theme=dark] .colab-df-convert {\n",
              "      background-color: #3B4455;\n",
              "      fill: #D2E3FC;\n",
              "    }\n",
              "\n",
              "    [theme=dark] .colab-df-convert:hover {\n",
              "      background-color: #434B5C;\n",
              "      box-shadow: 0px 1px 3px 1px rgba(0, 0, 0, 0.15);\n",
              "      filter: drop-shadow(0px 1px 2px rgba(0, 0, 0, 0.3));\n",
              "      fill: #FFFFFF;\n",
              "    }\n",
              "  </style>\n",
              "\n",
              "      <script>\n",
              "        const buttonEl =\n",
              "          document.querySelector('#df-2114fa64-c84d-4c63-969c-e3fac12d1784 button.colab-df-convert');\n",
              "        buttonEl.style.display =\n",
              "          google.colab.kernel.accessAllowed ? 'block' : 'none';\n",
              "\n",
              "        async function convertToInteractive(key) {\n",
              "          const element = document.querySelector('#df-2114fa64-c84d-4c63-969c-e3fac12d1784');\n",
              "          const dataTable =\n",
              "            await google.colab.kernel.invokeFunction('convertToInteractive',\n",
              "                                                     [key], {});\n",
              "          if (!dataTable) return;\n",
              "\n",
              "          const docLinkHtml = 'Like what you see? Visit the ' +\n",
              "            '<a target=\"_blank\" href=https://colab.research.google.com/notebooks/data_table.ipynb>data table notebook</a>'\n",
              "            + ' to learn more about interactive tables.';\n",
              "          element.innerHTML = '';\n",
              "          dataTable['output_type'] = 'display_data';\n",
              "          await google.colab.output.renderOutput(dataTable, element);\n",
              "          const docLink = document.createElement('div');\n",
              "          docLink.innerHTML = docLinkHtml;\n",
              "          element.appendChild(docLink);\n",
              "        }\n",
              "      </script>\n",
              "    </div>\n",
              "  </div>\n",
              "  "
            ]
          },
          "metadata": {},
          "execution_count": 63
        }
      ]
    },
    {
      "cell_type": "code",
      "source": [
        "from sklearn.feature_extraction.text import CountVectorizer\n",
        "from sklearn.model_selection import train_test_split\n",
        "\n",
        "X_train, X_test, y_train, y_test = train_test_split(data.text, data.target, test_size=0.3, random_state=42)"
      ],
      "metadata": {
        "id": "oB1MTqUVAbPA"
      },
      "execution_count": null,
      "outputs": []
    },
    {
      "cell_type": "code",
      "source": [
        "cv = CountVectorizer()\n",
        "cv.fit(X_train)\n",
        "X_train_cv = cv.transform(X_train).toarray()"
      ],
      "metadata": {
        "id": "3SdQGP7ONrJu"
      },
      "execution_count": null,
      "outputs": []
    },
    {
      "cell_type": "code",
      "source": [
        "X_train_cv.shape"
      ],
      "metadata": {
        "colab": {
          "base_uri": "https://localhost:8080/"
        },
        "id": "-hyKCWWHNxf5",
        "outputId": "b953cbc2-a339-4cae-c1e3-86f9c00e63dc"
      },
      "execution_count": null,
      "outputs": [
        {
          "output_type": "execute_result",
          "data": {
            "text/plain": [
              "(5329, 18455)"
            ]
          },
          "metadata": {},
          "execution_count": 66
        }
      ]
    },
    {
      "cell_type": "code",
      "source": [
        "import re\n",
        "import string\n",
        "def contains_digit(vocabulary) -> bool:\n",
        "    num_count = 0\n",
        "    for key in vocabulary:\n",
        "        if bool(re.search(r'\\d', key)):\n",
        "            num_count += 1\n",
        "    \n",
        "    return num_count\n",
        "\n",
        "def contains_punctuation(vocabulary) -> bool:\n",
        "    punc_count = 0\n",
        "    p = re.compile('[' + string.punctuation + '\\\\\\\\' + ']')\n",
        "    for key in vocabulary:\n",
        "        if bool(re.search(p, key)):\n",
        "            punc_count += 1\n",
        "    \n",
        "    return punc_count\n",
        "\n",
        "def is_hashtag(vocabulary) -> bool:\n",
        "    hashtag_count = 0  \n",
        "    for key in vocabulary:           \n",
        "        if key[0] == '#':\n",
        "            hashtag_count += 1\n",
        "    return hashtag_count\n",
        "\n",
        "def is_mention(vocabulary) -> bool:\n",
        "    ment_count = 0  \n",
        "    for key in vocabulary:           \n",
        "        if key[0] == '@':\n",
        "            ment_count += 1\n",
        "    return ment_count\n",
        "\n",
        "def investigate_vocabulary(vocabulary):\n",
        "    print('With digit:      ', contains_digit(vocabulary)\n",
        "          )\n",
        "    print('With punctuation:', contains_punctuation(vocabulary)\n",
        "          )\n",
        "    print('Hashtags:        ', is_hashtag(vocabulary)\n",
        "          )\n",
        "    print('Mentions:        ',is_mention(vocabulary)\n",
        "          )\n",
        "\n",
        "\n"
      ],
      "metadata": {
        "id": "7PhQSWqcHhU8"
      },
      "execution_count": null,
      "outputs": []
    },
    {
      "cell_type": "code",
      "source": [
        "dummy_vocab = {'th1nk' : 0,\n",
        "               'think333' : 1,\n",
        "               'think.' : 2,\n",
        "               'th!nk' : 3,\n",
        "               'th...nk' : 4,\n",
        "               '#think' : 5,\n",
        "               '@think' : 6,\n",
        "               '@thinking':7,\n",
        "               '@nothink' : 8,\n",
        "               'think' : 9}\n",
        "investigate_vocabulary(dummy_vocab)"
      ],
      "metadata": {
        "colab": {
          "base_uri": "https://localhost:8080/"
        },
        "id": "s8hL5ZcQIdp6",
        "outputId": "134591e0-5c51-44ed-cc41-628667d215af"
      },
      "execution_count": null,
      "outputs": [
        {
          "output_type": "stream",
          "name": "stdout",
          "text": [
            "With digit:       2\n",
            "With punctuation: 7\n",
            "Hashtags:         1\n",
            "Mentions:         3\n"
          ]
        }
      ]
    },
    {
      "cell_type": "code",
      "source": [
        "investigate_vocabulary(cv.vocabulary_)"
      ],
      "metadata": {
        "id": "VpW8R_SuKR_l",
        "colab": {
          "base_uri": "https://localhost:8080/"
        },
        "outputId": "f62808a0-f521-4bd9-bead-09b43763f848"
      },
      "execution_count": null,
      "outputs": [
        {
          "output_type": "stream",
          "name": "stdout",
          "text": [
            "With digit:       3812\n",
            "With punctuation: 315\n",
            "Hashtags:         0\n",
            "Mentions:         0\n"
          ]
        }
      ]
    },
    {
      "cell_type": "code",
      "execution_count": null,
      "metadata": {
        "id": "xnlRoXUS3HvM"
      },
      "outputs": [],
      "source": [
        "from nltk.tokenize import TweetTokenizer\n",
        "# Чтобы узнать, какие параметры есть у этого токенайзера - используйте help(TweetTokenizer)\n",
        "# Для того, чтобы передать токенайзер в CountVectorizer используйте параметр tokenizer"
      ]
    },
    {
      "cell_type": "code",
      "source": [
        "tk = TweetTokenizer()\n",
        "cvTokenized = CountVectorizer(tokenizer=tk.tokenize)\n",
        "cvTokenized.fit(X_train)\n",
        "X_train_cv = cvTokenized.transform(X_train).toarray()"
      ],
      "metadata": {
        "id": "8lPMIf6UKccT",
        "colab": {
          "base_uri": "https://localhost:8080/"
        },
        "outputId": "976d992e-da6d-4f9c-bb49-660e836ba57c"
      },
      "execution_count": null,
      "outputs": [
        {
          "output_type": "stream",
          "name": "stderr",
          "text": [
            "/usr/local/lib/python3.10/dist-packages/sklearn/feature_extraction/text.py:528: UserWarning: The parameter 'token_pattern' will not be used since 'tokenizer' is not None'\n",
            "  warnings.warn(\n"
          ]
        }
      ]
    },
    {
      "cell_type": "code",
      "source": [
        "investigate_vocabulary(cvTokenized.vocabulary_)"
      ],
      "metadata": {
        "id": "7oR5kNKVLLpm",
        "colab": {
          "base_uri": "https://localhost:8080/"
        },
        "outputId": "4ca96e3c-d7ad-4fea-a50f-8cab73da05b9"
      },
      "execution_count": null,
      "outputs": [
        {
          "output_type": "stream",
          "name": "stdout",
          "text": [
            "With digit:       3939\n",
            "With punctuation: 7338\n",
            "Hashtags:         1470\n",
            "Mentions:         1679\n"
          ]
        }
      ]
    },
    {
      "cell_type": "code",
      "source": [
        "X_train_cv.shape"
      ],
      "metadata": {
        "colab": {
          "base_uri": "https://localhost:8080/"
        },
        "id": "0eQsoqu-SK13",
        "outputId": "8f7f818e-91ab-459d-a2c5-68752ae86392"
      },
      "execution_count": null,
      "outputs": [
        {
          "output_type": "execute_result",
          "data": {
            "text/plain": [
              "(5329, 19670)"
            ]
          },
          "metadata": {},
          "execution_count": 73
        }
      ]
    },
    {
      "cell_type": "code",
      "source": [
        "import nltk\n",
        "nltk.download('stopwords')"
      ],
      "metadata": {
        "colab": {
          "base_uri": "https://localhost:8080/"
        },
        "id": "VFLN-2oUWogT",
        "outputId": "e202b220-e72c-4daf-ba54-7c3765d6aa16"
      },
      "execution_count": null,
      "outputs": [
        {
          "output_type": "stream",
          "name": "stderr",
          "text": [
            "[nltk_data] Downloading package stopwords to /root/nltk_data...\n",
            "[nltk_data]   Unzipping corpora/stopwords.zip.\n"
          ]
        },
        {
          "output_type": "execute_result",
          "data": {
            "text/plain": [
              "True"
            ]
          },
          "metadata": {},
          "execution_count": 81
        }
      ]
    },
    {
      "cell_type": "code",
      "source": [
        "from nltk.corpus import stopwords\n",
        "import snowballstemmer\n",
        "\n",
        "def contains_only_latin_letters(s: str) -> bool:\n",
        "    latin_pattern = re.compile('^[a-z]+$')\n",
        "    return bool(re.match(latin_pattern, s))\n",
        "\n",
        "def is_emoji(s: str) -> bool:\n",
        "    smile_pattern = re.compile('(^[^a-zA-Z0-9\\n]*[()]+[^a-zA-Z0-9\\n]+$)|(^[^a-zA-Z0-9\\n]+[()]+[^a-zA-Z0-9\\n]*$)')\n",
        "    return bool(re.match(smile_pattern, s))\n",
        "\n",
        "def is_hashtag(s: str) -> bool:\n",
        "    hashtag_pattern = re.compile('^#[a-z]+$')\n",
        "    return bool(re.match(hashtag_pattern, s))\n",
        "\n",
        "def custom_tokenizer(s: str) -> List[str]:    \n",
        "    res = list()\n",
        "    s = s.lower()\n",
        "    tk = TweetTokenizer()\n",
        "    tokenized_text = tk.tokenize(s)\n",
        "    stop = stopwords.words('english')\n",
        "    \n",
        "    for token in tokenized_text:\n",
        "    \n",
        "        if contains_only_latin_letters(token) and token not in stop:\n",
        "            res.append(token)\n",
        "\n",
        "        elif is_emoji(token) and token not in stop:\n",
        "            res.append(token)\n",
        "\n",
        "        elif is_hashtag(token) and token not in stop:\n",
        "            res.append(token)\n",
        "    \n",
        "    stemmer = snowballstemmer.stemmer('english')\n",
        "    res = stemmer.stemWords(res)\n",
        "    \n",
        "    return res\n",
        "\n",
        "  "
      ],
      "metadata": {
        "id": "qhwmi7DEMD25"
      },
      "execution_count": null,
      "outputs": []
    },
    {
      "cell_type": "code",
      "source": [
        "custom_tokenizer('She LOVES painting :-) #art')"
      ],
      "metadata": {
        "colab": {
          "base_uri": "https://localhost:8080/"
        },
        "id": "vYzPZzf8O6vj",
        "outputId": "2a4e265b-8e97-4ba6-f7dd-5846a2592f19"
      },
      "execution_count": null,
      "outputs": [
        {
          "output_type": "execute_result",
          "data": {
            "text/plain": [
              "['love', 'paint', ':-)', '#art']"
            ]
          },
          "metadata": {},
          "execution_count": 83
        }
      ]
    },
    {
      "cell_type": "code",
      "source": [
        "for i in range(10):\n",
        "    s = X_train.iloc[i]\n",
        "    print('\\n...............n')\n",
        "    \n",
        "    print(f'{custom_tokenizer(s)}')"
      ],
      "metadata": {
        "id": "A1fh3_itPz7D",
        "colab": {
          "base_uri": "https://localhost:8080/"
        },
        "outputId": "1b8962a3-f834-4f35-bacd-57b93c899606"
      },
      "execution_count": null,
      "outputs": [
        {
          "output_type": "stream",
          "name": "stdout",
          "text": [
            "\n",
            "...............n\n",
            "['bridg', 'ash', 'australia', 'collaps', 'trent', 'bridg', 'among', 'worst', 'histori', 'england', 'bundl', 'australia']\n",
            "\n",
            "...............n\n",
            "['hail', 'carol', 'stream', 'illinoi', 'great', 'michigan', 'techniqu', 'camp', 'thank', '#goblu', '#wrestleon']\n",
            "\n",
            "...............n\n",
            "['polic', 'houston', 'cnn', 'tennesse', 'movi', 'theater', 'shoot', 'suspect', 'kill', 'polic']\n",
            "\n",
            "...............n\n",
            "['riot', 'still', 'riot', 'coupl', 'hour', 'left', 'class']\n",
            "\n",
            "...............n\n",
            "['wound', 'lake', 'highland', 'crack', 'path', 'wipe', 'morn', 'beach', 'run', 'surfac', 'wound', 'left', 'elbow', 'right', 'knee']\n",
            "\n",
            "...............n\n",
            "['airplan', 'somewher', 'expert', 'franc', 'begin', 'examin', 'airplan', 'debri', 'found', 'reunion', 'island', 'french', 'air', 'accid', 'expert', '#mlb']\n",
            "\n",
            "...............n\n",
            "['bloodi', 'isol', 'citi', 'world', 'perth', 'came', 'kill', 'indian', 'fun', 'video', 'smirk', 'remorseless', 'pakistani', 'killer', 'show', 'boast']\n",
            "\n",
            "...............n\n",
            "['burn', 'except', 'idk', 'realli', 'burn']\n",
            "\n",
            "...............n\n",
            "['destroy', 'ask', 'destroy', 'hous']\n",
            "\n",
            "...............n\n",
            "['wound', 'maracay', 'nirgua', 'venezuela', 'polic', 'offic', 'wound', 'suspect', 'dead', 'exchang', 'shot']\n"
          ]
        }
      ]
    },
    {
      "cell_type": "code",
      "source": [
        "vectorizer = CountVectorizer(tokenizer=custom_tokenizer)\n",
        "vectorizer.fit(X_train)\n",
        "X_train_cust = vectorizer.transform(X_train)\n",
        "X_test_cust = vectorizer.transform(X_test)"
      ],
      "metadata": {
        "id": "LDqixz7QQEbn",
        "colab": {
          "base_uri": "https://localhost:8080/"
        },
        "outputId": "72feb7c1-cd23-43b3-d41d-36c828015f3a"
      },
      "execution_count": null,
      "outputs": [
        {
          "output_type": "stream",
          "name": "stderr",
          "text": [
            "/usr/local/lib/python3.10/dist-packages/sklearn/feature_extraction/text.py:528: UserWarning: The parameter 'token_pattern' will not be used since 'tokenizer' is not None'\n",
            "  warnings.warn(\n"
          ]
        }
      ]
    },
    {
      "cell_type": "code",
      "source": [
        "from sklearn.linear_model import LogisticRegression\n",
        "\n",
        "lr = LogisticRegression(penalty='l2', C=0.4)\n",
        "lr.fit(X_train_cust, y_train)\n",
        "train_prediction = lr.predict(X_train_cust)\n",
        "test_prediction = lr.predict(X_test_cust)"
      ],
      "metadata": {
        "id": "BVj03QV2QbWl"
      },
      "execution_count": null,
      "outputs": []
    },
    {
      "cell_type": "code",
      "source": [
        "from sklearn.metrics import f1_score\n",
        "\n",
        "print(f'F1 score на train: {f1_score(y_train, train_prediction)}')\n",
        "print(f'F1 score на test: {f1_score(y_test, test_prediction)}')\n",
        "# на тренировочных данных значительно лучше скор, мб беды с переобучением -> была добавлена l2 регуляризация"
      ],
      "metadata": {
        "colab": {
          "base_uri": "https://localhost:8080/"
        },
        "id": "osyC0pdT3cSD",
        "outputId": "c576b1a5-1439-44cf-8780-8c78d6a67165"
      },
      "execution_count": null,
      "outputs": [
        {
          "output_type": "stream",
          "name": "stdout",
          "text": [
            "F1 score на train: 0.9046754425783023\n",
            "F1 score на test: 0.759369907658881\n"
          ]
        }
      ]
    },
    {
      "cell_type": "code",
      "source": [
        "from sklearn.feature_extraction.text import TfidfVectorizer\n",
        "\n",
        "tfidf = TfidfVectorizer(tokenizer=custom_tokenizer)\n",
        "tfidf.fit(X_train)\n",
        "X_train_tfidf = tfidf.transform(X_train)\n",
        "X_test_tfidf = tfidf.transform(X_test)"
      ],
      "metadata": {
        "colab": {
          "base_uri": "https://localhost:8080/"
        },
        "id": "cDqs61hl3ve3",
        "outputId": "14b502b8-0463-4907-a967-194249de7382"
      },
      "execution_count": null,
      "outputs": [
        {
          "output_type": "stream",
          "name": "stderr",
          "text": [
            "/usr/local/lib/python3.10/dist-packages/sklearn/feature_extraction/text.py:528: UserWarning: The parameter 'token_pattern' will not be used since 'tokenizer' is not None'\n",
            "  warnings.warn(\n"
          ]
        }
      ]
    },
    {
      "cell_type": "code",
      "source": [
        "from sklearn.linear_model import LogisticRegression\n",
        "\n",
        "lr = LogisticRegression(penalty='l2', C=0.4)\n",
        "lr.fit(X_train_tfidf, y_train)\n",
        "train_prediction = lr.predict(X_train_tfidf)\n",
        "test_prediction = lr.predict(X_test_tfidf)"
      ],
      "metadata": {
        "id": "PjbiVBENbcTY"
      },
      "execution_count": null,
      "outputs": []
    },
    {
      "cell_type": "code",
      "source": [
        "print(f'F1 score на train: {f1_score(y_train, train_prediction)}')\n",
        "print(f'F1 score на test: {f1_score(y_test, test_prediction)}')"
      ],
      "metadata": {
        "colab": {
          "base_uri": "https://localhost:8080/"
        },
        "id": "ST-zJ6jnblQ8",
        "outputId": "8b1df253-7b04-48e9-d83c-2e7e3de11e28"
      },
      "execution_count": null,
      "outputs": [
        {
          "output_type": "stream",
          "name": "stdout",
          "text": [
            "F1 score на train: 0.7909356725146199\n",
            "F1 score на test: 0.7122969837587008\n"
          ]
        }
      ]
    },
    {
      "cell_type": "code",
      "source": [
        "print(X_train_tfidf.shape)"
      ],
      "metadata": {
        "colab": {
          "base_uri": "https://localhost:8080/"
        },
        "id": "yJSMPrcxdT46",
        "outputId": "3a95661a-97a8-4ff7-8c94-9db3c195190a"
      },
      "execution_count": null,
      "outputs": [
        {
          "output_type": "stream",
          "name": "stdout",
          "text": [
            "(5329, 10478)\n"
          ]
        }
      ]
    },
    {
      "cell_type": "code",
      "source": [
        "tfidf = TfidfVectorizer(tokenizer=custom_tokenizer, max_df=0.9)\n",
        "tfidf.fit(X_train)\n",
        "X_train_tfidf = tfidf.transform(X_train)\n",
        "X_test_tfidf = tfidf.transform(X_test)\n",
        "\n",
        "lr = LogisticRegression(penalty='l2', C=0.4)\n",
        "lr.fit(X_train_tfidf, y_train)\n",
        "train_prediction = lr.predict(X_train_tfidf)\n",
        "test_prediction = lr.predict(X_test_tfidf)\n",
        "\n",
        "print(f'F1 score на train: {f1_score(y_train, train_prediction)}')\n",
        "print(f'F1 score на test: {f1_score(y_test, test_prediction)}')"
      ],
      "metadata": {
        "colab": {
          "base_uri": "https://localhost:8080/"
        },
        "id": "EU-MRXyRSHLm",
        "outputId": "3c922f9b-bbef-4810-ee71-90838b60ff6c"
      },
      "execution_count": null,
      "outputs": [
        {
          "output_type": "stream",
          "name": "stdout",
          "text": [
            "F1 score на train: 0.7909356725146199\n",
            "F1 score на test: 0.7122969837587008\n"
          ]
        }
      ]
    },
    {
      "cell_type": "code",
      "source": [
        "print(X_train_tfidf.shape)"
      ],
      "metadata": {
        "id": "z1TkO9HeSTJ9",
        "colab": {
          "base_uri": "https://localhost:8080/"
        },
        "outputId": "13d7a7b4-24e0-445a-f926-8954f5326830"
      },
      "execution_count": null,
      "outputs": [
        {
          "output_type": "stream",
          "name": "stdout",
          "text": [
            "(5329, 10478)\n"
          ]
        }
      ]
    },
    {
      "cell_type": "code",
      "source": [
        "tfidf = TfidfVectorizer(tokenizer=custom_tokenizer, max_df=0.9, min_df=0.001)\n",
        "tfidf.fit(X_train)\n",
        "X_train_tfidf = tfidf.transform(X_train)\n",
        "X_test_tfidf = tfidf.transform(X_test)\n",
        "\n",
        "lr = LogisticRegression(penalty='l2', C=0.4)\n",
        "lr.fit(X_train_tfidf, y_train)\n",
        "train_prediction = lr.predict(X_train_tfidf)\n",
        "test_prediction = lr.predict(X_test_tfidf)\n",
        "\n",
        "print(f'F1 score на train: {f1_score(y_train, train_prediction)}')\n",
        "print(f'F1 score на test: {f1_score(y_test, test_prediction)}')"
      ],
      "metadata": {
        "colab": {
          "base_uri": "https://localhost:8080/"
        },
        "id": "9mNpIxv6SfKc",
        "outputId": "a7080eae-ae1a-4610-8a72-70fe613137bb"
      },
      "execution_count": null,
      "outputs": [
        {
          "output_type": "stream",
          "name": "stderr",
          "text": [
            "/usr/local/lib/python3.10/dist-packages/sklearn/feature_extraction/text.py:528: UserWarning: The parameter 'token_pattern' will not be used since 'tokenizer' is not None'\n",
            "  warnings.warn(\n"
          ]
        },
        {
          "output_type": "stream",
          "name": "stdout",
          "text": [
            "F1 score на train: 0.7754618664140218\n",
            "F1 score на test: 0.7223476297968396\n"
          ]
        }
      ]
    },
    {
      "cell_type": "code",
      "source": [
        "from sklearn.feature_extraction.text import HashingVectorizer\n",
        "\n",
        "hashing = HashingVectorizer(tokenizer=custom_tokenizer, n_features=5000)\n",
        "hashing.fit(X_train)\n",
        "X_train_hash = hashing.transform(X_train)\n",
        "X_test_hash = hashing.transform(X_test)\n",
        "\n",
        "lr = LogisticRegression(penalty='l2', C=0.4)\n",
        "lr.fit(X_train_hash, y_train)\n",
        "train_prediction = lr.predict(X_train_hash)\n",
        "test_prediction = lr.predict(X_test_hash)\n",
        "\n",
        "print(f'F1 score на train: {f1_score(y_train, train_prediction)}')\n",
        "print(f'F1 score на test: {f1_score(y_test, test_prediction)}')"
      ],
      "metadata": {
        "colab": {
          "base_uri": "https://localhost:8080/"
        },
        "id": "8qSoW894RXxz",
        "outputId": "3c38e98a-6a8a-477a-c307-3473ee0241cc"
      },
      "execution_count": null,
      "outputs": [
        {
          "output_type": "stream",
          "name": "stderr",
          "text": [
            "/usr/local/lib/python3.10/dist-packages/sklearn/feature_extraction/text.py:528: UserWarning: The parameter 'token_pattern' will not be used since 'tokenizer' is not None'\n",
            "  warnings.warn(\n"
          ]
        },
        {
          "output_type": "stream",
          "name": "stdout",
          "text": [
            "F1 score на train: 0.7633477633477633\n",
            "F1 score на test: 0.6951995373048004\n"
          ]
        }
      ]
    },
    {
      "cell_type": "code",
      "source": [
        "vectorizer = CountVectorizer(tokenizer=custom_tokenizer)\n",
        "vectorizer.fit(X_train)\n",
        "X_train_cust = vectorizer.transform(X_train)\n",
        "X_test_cust = vectorizer.transform(X_test) # из 8 пункта"
      ],
      "metadata": {
        "id": "GSTVApFeS-OY"
      },
      "execution_count": null,
      "outputs": []
    },
    {
      "cell_type": "code",
      "source": [
        "lr = LogisticRegression(penalty='l2', C=0.49)\n",
        "lr.fit(X_train_cust, y_train)\n",
        "train_prediction = lr.predict(X_train_cust)\n",
        "test_prediction = lr.predict(X_test_cust)\n",
        "\n",
        "print(f'F1 score на train: {f1_score(y_train, train_prediction)}')\n",
        "print(f'F1 score на test: {f1_score(y_test, test_prediction)}')"
      ],
      "metadata": {
        "colab": {
          "base_uri": "https://localhost:8080/"
        },
        "id": "_GPnFFNkit7V",
        "outputId": "03eaf6d9-50f0-4ae9-e435-4c487ad57823"
      },
      "execution_count": null,
      "outputs": [
        {
          "output_type": "stream",
          "name": "stdout",
          "text": [
            "F1 score на train: 0.9196850393700787\n",
            "F1 score на test: 0.7604110329908058\n"
          ]
        }
      ]
    }
  ],
  "metadata": {
    "kernelspec": {
      "display_name": "Python 3 (ipykernel)",
      "language": "python",
      "name": "python3"
    },
    "language_info": {
      "codemirror_mode": {
        "name": "ipython",
        "version": 3
      },
      "file_extension": ".py",
      "mimetype": "text/x-python",
      "name": "python",
      "nbconvert_exporter": "python",
      "pygments_lexer": "ipython3",
      "version": "3.8.5"
    },
    "colab": {
      "provenance": []
    }
  },
  "nbformat": 4,
  "nbformat_minor": 0
}